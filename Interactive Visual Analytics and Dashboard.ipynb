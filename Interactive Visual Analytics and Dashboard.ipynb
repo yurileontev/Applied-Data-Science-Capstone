{
  "metadata": {
    "language_info": {
      "codemirror_mode": {
        "name": "python",
        "version": 3
      },
      "file_extension": ".py",
      "mimetype": "text/x-python",
      "name": "python",
      "nbconvert_exporter": "python",
      "pygments_lexer": "ipython3",
      "version": "3.8"
    },
    "kernelspec": {
      "name": "python",
      "display_name": "Pyolite",
      "language": "python"
    }
  },
  "nbformat_minor": 4,
  "nbformat": 4,
  "cells": [
    {
      "cell_type": "code",
      "source": "# Import required libraries\nimport pandas as pd\nimport dash\nimport dash_html_components as html\nimport dash_core_components as dcc\nfrom dash.dependencies import Input, Output\nimport plotly.express as px\n\n# Read the airline data into pandas dataframe\nspacex_df = pd.read_csv(\"spacex_launch_dash.csv\")\nmax_payload = spacex_df['Payload Mass (kg)'].max()\nmin_payload = spacex_df['Payload Mass (kg)'].min()\n\n# Create a dash application\napp = dash.Dash(__name__)\n\n# Create an app layout\napp.layout = html.Div(children=[html.H1('SpaceX Launch Records Dashboard',\n                                        style={'textAlign': 'center', 'color': '#503D36',\n                                               'font-size': 40}),\n                                # TASK 1: Add a dropdown list to enable Launch Site selection\n                                # The default select value is for ALL sites\n                                # dcc.Dropdown(id='site-dropdown',...)\n                                dcc.Dropdown(id='site-dropdown',\n                                            options=[\n                                                {'label' : 'All Sites', 'value' : 'ALL'},\n                                                {'label' : 'CCAFS LC-40', 'value' : 'CCAFS LC-40'},\n                                                {'label' : 'CCAFS SLC-40', 'value' : 'CCAFS SLC-40'},\n                                                {'label' : 'KSC LC-39A', 'value' : 'KSC LC-39A'},\n                                                {'label' : 'VAFB SLC-4E', 'value' : 'VAFB SLC-4E'}\n                                                    ],\n                                                value = 'ALL',\n                                                placeholder = 'Select a Launch Site here',\n                                                searchable = True                               \n\n                                            ),\n                                html.Br(),\n\n                                # TASK 2: Add a pie chart to show the total successful launches count for all sites\n                                # If a specific launch site was selected, show the Success vs. Failed counts for the site\n                                html.Div(dcc.Graph(id='success-pie-chart')),\n                                html.Br(),\n\n                                html.P(\"Payload range (Kg):\"),\n                                # TASK 3: Add a slider to select payload range\n                                #dcc.RangeSlider(id='payload-slider',...)\n                                dcc.RangeSlider(id='payload-slider',\n                                                    min=0, max=10000, step=1000,\n                                                    value=[min_payload, max_payload],\n                                                    marks={0 : '0',\n                                                           2000 : '2000',\n                                                           4000 : '4000',\n                                                           6000 : '6000',\n                                                           8000 : '8000',\n                                                           10000 : '10000'}\n                                                    ),\n                                # TASK 4: Add a scatter chart to show the correlation between payload and launch success\n                                html.Div(dcc.Graph(id='success-payload-scatter-chart')),\n                                ])\n\n# TASK 2:\n# Add a callback function for `site-dropdown` as input, `success-pie-chart` as output\n# Function decorator to specify function input and output\n@app.callback(Output(component_id='success-pie-chart', component_property='figure'),\n              Input(component_id='site-dropdown', component_property='value'))\ndef get_pie_chart(entered_site):\n    filtered_df = spacex_df\n    if entered_site == 'ALL':\n        fig = px.pie(filtered_df, values='class', \n        names='Launch Site', \n        title='Total Success Launches by Site')\n        return fig\n    else:\n        filtered_df=spacex_df[spacex_df['Launch Site']== entered_site]\n        filtered_df=filtered_df.groupby(['Launch Site','class']).size().reset_index(name='class count')\n        fig = px.pie(filtered_df, values='class count', \n        names='class', \n        title='Total Success Launches for Site ' + entered_site)\n        return fig\n        # return the outcomes piechart for a selected site\n# TASK 4:\n# Add a callback function for `site-dropdown` and `payload-slider` as inputs, `success-payload-scatter-chart` as output\n# Function decorator to specify function input and output\n@app.callback(\n    Output(component_id='success-payload-scatter-chart', component_property='figure'),\n    [Input(component_id='site-dropdown', component_property='value'),\n    Input(component_id='payload-slider', component_property='value')])\n\ndef scatter(entered_site,payload_slider):\n    filtered_df = spacex_df[spacex_df['Payload Mass (kg)'].between(payload_slider[0],payload_slider[1])]\n    if entered_site=='ALL':\n        fig=px.scatter(filtered_df,x='Payload Mass (kg)',y='class',color='Booster Version Category',title='Success count on Payload mass for all sites')\n        return fig\n    else:\n        fig=px.scatter(filtered_df[filtered_df['Launch Site']==entered_site],x='Payload Mass (kg)',y='class',color='Booster Version Category',title=f\"Success count on Payload mass for site {entered_site}\")\n        return fig\n\n\n# Run the app\nif __name__ == '__main__':\n    app.run_server()\n",
      "metadata": {
        "trusted": true
      },
      "execution_count": 1,
      "outputs": [
        {
          "ename": "<class 'ModuleNotFoundError'>",
          "evalue": "No module named 'dash'",
          "traceback": [
            "\u001b[0;31m---------------------------------------------------------------------------\u001b[0m",
            "\u001b[0;31mModuleNotFoundError\u001b[0m                       Traceback (most recent call last)",
            "Cell \u001b[0;32mIn[1], line 3\u001b[0m\n\u001b[1;32m      1\u001b[0m \u001b[38;5;66;03m# Import required libraries\u001b[39;00m\n\u001b[1;32m      2\u001b[0m \u001b[38;5;28;01mimport\u001b[39;00m \u001b[38;5;21;01mpandas\u001b[39;00m \u001b[38;5;28;01mas\u001b[39;00m \u001b[38;5;21;01mpd\u001b[39;00m\n\u001b[0;32m----> 3\u001b[0m \u001b[38;5;28;01mimport\u001b[39;00m \u001b[38;5;21;01mdash\u001b[39;00m\n\u001b[1;32m      4\u001b[0m \u001b[38;5;28;01mimport\u001b[39;00m \u001b[38;5;21;01mdash_html_components\u001b[39;00m \u001b[38;5;28;01mas\u001b[39;00m \u001b[38;5;21;01mhtml\u001b[39;00m\n\u001b[1;32m      5\u001b[0m \u001b[38;5;28;01mimport\u001b[39;00m \u001b[38;5;21;01mdash_core_components\u001b[39;00m \u001b[38;5;28;01mas\u001b[39;00m \u001b[38;5;21;01mdcc\u001b[39;00m\n",
            "\u001b[0;31mModuleNotFoundError\u001b[0m: No module named 'dash'"
          ],
          "output_type": "error"
        }
      ]
    },
    {
      "cell_type": "code",
      "source": "",
      "metadata": {},
      "execution_count": null,
      "outputs": []
    }
  ]
}